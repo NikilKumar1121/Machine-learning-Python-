{
  "nbformat": 4,
  "nbformat_minor": 0,
  "metadata": {
    "colab": {
      "name": "Untitled2.ipynb",
      "provenance": [],
      "toc_visible": true,
      "authorship_tag": "ABX9TyPZ2vL2EvyOs4RwIsyxyaye",
      "include_colab_link": true
    },
    "kernelspec": {
      "name": "python3",
      "display_name": "Python 3"
    }
  },
  "cells": [
    {
      "cell_type": "markdown",
      "metadata": {
        "id": "view-in-github",
        "colab_type": "text"
      },
      "source": [
        "<a href=\"https://colab.research.google.com/github/nikilstark/Python-assignments/blob/master/Dataset_import.ipynb\" target=\"_parent\"><img src=\"https://colab.research.google.com/assets/colab-badge.svg\" alt=\"Open In Colab\"/></a>"
      ]
    },
    {
      "cell_type": "code",
      "metadata": {
        "id": "sNMEcePrJgNp",
        "colab_type": "code",
        "colab": {}
      },
      "source": [
        "!pip install -q kaggle"
      ],
      "execution_count": 0,
      "outputs": []
    },
    {
      "cell_type": "code",
      "metadata": {
        "id": "GPjNKJ4GKi3U",
        "colab_type": "code",
        "colab": {}
      },
      "source": [
        "!mkdir -p ~/.kaggle"
      ],
      "execution_count": 0,
      "outputs": []
    },
    {
      "cell_type": "code",
      "metadata": {
        "id": "Wakr5xK0Kxzp",
        "colab_type": "code",
        "colab": {}
      },
      "source": [
        "!cp kaggle.json ~/.kaggle/"
      ],
      "execution_count": 0,
      "outputs": []
    },
    {
      "cell_type": "code",
      "metadata": {
        "id": "zbtkrke_LD7L",
        "colab_type": "code",
        "colab": {}
      },
      "source": [
        "!chmod 600 ~/.kaggle/kaggle.json"
      ],
      "execution_count": 0,
      "outputs": []
    },
    {
      "cell_type": "code",
      "metadata": {
        "id": "IpUJahlzLQ-I",
        "colab_type": "code",
        "colab": {
          "base_uri": "https://localhost:8080/",
          "height": 184
        },
        "outputId": "3223873a-0550-4a32-e2bc-90ba225d324b"
      },
      "source": [
        "!kaggle competitions download -c dogs-vs-cats"
      ],
      "execution_count": 21,
      "outputs": [
        {
          "output_type": "stream",
          "text": [
            "Warning: Looks like you're using an outdated API Version, please consider updating (server 1.5.6 / client 1.5.4)\n",
            "Downloading train.zip to /content\n",
            " 98% 535M/543M [00:03<00:00, 176MB/s]\n",
            "100% 543M/543M [00:03<00:00, 152MB/s]\n",
            "Downloading test1.zip to /content\n",
            "100% 270M/271M [00:02<00:00, 169MB/s]\n",
            "100% 271M/271M [00:02<00:00, 129MB/s]\n",
            "Downloading sampleSubmission.csv to /content\n",
            "  0% 0.00/86.8k [00:00<?, ?B/s]\n",
            "100% 86.8k/86.8k [00:00<00:00, 78.1MB/s]\n"
          ],
          "name": "stdout"
        }
      ]
    },
    {
      "cell_type": "code",
      "metadata": {
        "id": "0ipA8b22Ll0w",
        "colab_type": "code",
        "colab": {
          "base_uri": "https://localhost:8080/",
          "height": 422
        },
        "outputId": "bd4cb600-a6ec-416e-d8f3-501b2331843d"
      },
      "source": [
        "!kaggle datasets list"
      ],
      "execution_count": 22,
      "outputs": [
        {
          "output_type": "stream",
          "text": [
            "Warning: Looks like you're using an outdated API Version, please consider updating (server 1.5.6 / client 1.5.4)\n",
            "ref                                                        title                                                size  lastUpdated          downloadCount  \n",
            "---------------------------------------------------------  --------------------------------------------------  -----  -------------------  -------------  \n",
            "jessemostipak/hotel-booking-demand                         Hotel booking demand                                  1MB  2020-02-13 01:27:20           2783  \n",
            "tunguz/big-five-personality-test                           Big Five Personality Test                           159MB  2020-02-17 15:59:37            833  \n",
            "arindam235/startup-investments-crunchbase                  StartUp Investments (Crunchbase)                      3MB  2020-02-17 21:54:42            873  \n",
            "jamzing/sars-coronavirus-accession                         SARS CORONAVIRUS ACCESSION                            2MB  2020-02-18 15:49:34           1045  \n",
            "brandenciranni/democratic-debate-transcripts-2020          Democratic Debate Transcripts 2020                  523KB  2020-02-24 01:09:39            276  \n",
            "chaibapat/slogan-dataset                                   Slogan Dataset                                       18KB  2020-02-16 07:28:17            266  \n",
            "kenshoresearch/kensho-derived-wikimedia-data               Kensho Derived Wikimedia Dataset                      8GB  2020-01-24 20:30:52            166  \n",
            "mistag/arthropod-taxonomy-orders-object-detection-dataset  Arthropod Taxonomy Orders Object Detection Dataset   10GB  2020-02-01 15:13:23            213  \n",
            "sovitrath/diabetic-retinopathy-224x224-gaussian-filtered   Diabetic Retinopathy 224x224 Gaussian Filtered      427MB  2020-02-18 02:33:27            222  \n",
            "chrisfilo/onion-or-not                                     Onion Or Not                                        887KB  2020-02-26 02:34:12              3  \n",
            "sudalairajkumar/novel-corona-virus-2019-dataset            Novel Corona Virus 2019 Dataset                      49KB  2020-02-24 10:30:52          13276  \n",
            "rajanand/accidents-in-india                                Accidents in India                                   48KB  2017-07-23 12:17:22            918  \n",
            "abcsds/highest-mountains                                   World's Highest Mountains                             5KB  2016-08-30 23:25:31           1109  \n",
            "timoboz/data-science-cheat-sheets                          Data Science Cheat Sheets                           596MB  2020-02-04 19:42:27           1703  \n",
            "timoboz/google-trends-data                                 Google Trends Data                                    1MB  2020-02-04 17:31:10           2015  \n",
            "timoboz/superbowl-history-1967-2020                        Superbowl History 1967 - 2020                         2KB  2020-02-03 23:41:14           1780  \n",
            "timoboz/python-data-science-handbook                       Python Data Science Handbook                         15MB  2020-02-04 18:27:14            706  \n",
            "timoboz/tesla-stock-data-from-2010-to-2020                 Tesla stock data from 2010 to 2020                   46KB  2020-02-04 17:15:32           1513  \n",
            "fmejia21/demographics-of-academy-awards-oscars-winners     Demographics of Academy Awards (Oscars) Winners      20KB  2020-02-04 17:38:26           1551  \n",
            "brendaso/2019-coronavirus-dataset-01212020-01262020        2019 Coronavirus dataset (January - February 2020)   53KB  2020-02-06 18:09:28           5558  \n"
          ],
          "name": "stdout"
        }
      ]
    },
    {
      "cell_type": "code",
      "metadata": {
        "id": "TpPqBJzzQ2Fq",
        "colab_type": "code",
        "colab": {}
      },
      "source": [
        ""
      ],
      "execution_count": 0,
      "outputs": []
    }
  ]
}